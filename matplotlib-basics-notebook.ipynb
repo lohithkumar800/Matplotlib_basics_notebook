{
 "cells": [
  {
   "cell_type": "markdown",
   "id": "15acd06e",
   "metadata": {
    "papermill": {
     "duration": 0.005355,
     "end_time": "2022-11-14T23:59:39.096202",
     "exception": false,
     "start_time": "2022-11-14T23:59:39.090847",
     "status": "completed"
    },
    "tags": []
   },
   "source": [
    "#**Install Packages in Kaggle**"
   ]
  },
  {
   "cell_type": "code",
   "execution_count": 1,
   "id": "8c0aba0b",
   "metadata": {
    "collapsed": true,
    "execution": {
     "iopub.execute_input": "2022-11-14T23:59:39.106813Z",
     "iopub.status.busy": "2022-11-14T23:59:39.106189Z",
     "iopub.status.idle": "2022-11-14T23:59:53.012208Z",
     "shell.execute_reply": "2022-11-14T23:59:53.010556Z"
    },
    "jupyter": {
     "outputs_hidden": true
    },
    "papermill": {
     "duration": 13.915263,
     "end_time": "2022-11-14T23:59:53.015501",
     "exception": false,
     "start_time": "2022-11-14T23:59:39.100238",
     "status": "completed"
    },
    "tags": []
   },
   "outputs": [
    {
     "name": "stdout",
     "output_type": "stream",
     "text": [
      "Requirement already satisfied: matplotlib in /opt/conda/lib/python3.7/site-packages (3.5.3)\r\n",
      "Requirement already satisfied: fonttools>=4.22.0 in /opt/conda/lib/python3.7/site-packages (from matplotlib) (4.33.3)\r\n",
      "Requirement already satisfied: cycler>=0.10 in /opt/conda/lib/python3.7/site-packages (from matplotlib) (0.11.0)\r\n",
      "Requirement already satisfied: packaging>=20.0 in /opt/conda/lib/python3.7/site-packages (from matplotlib) (21.3)\r\n",
      "Requirement already satisfied: kiwisolver>=1.0.1 in /opt/conda/lib/python3.7/site-packages (from matplotlib) (1.4.3)\r\n",
      "Requirement already satisfied: numpy>=1.17 in /opt/conda/lib/python3.7/site-packages (from matplotlib) (1.21.6)\r\n",
      "Requirement already satisfied: pyparsing>=2.2.1 in /opt/conda/lib/python3.7/site-packages (from matplotlib) (3.0.9)\r\n",
      "Requirement already satisfied: python-dateutil>=2.7 in /opt/conda/lib/python3.7/site-packages (from matplotlib) (2.8.2)\r\n",
      "Requirement already satisfied: pillow>=6.2.0 in /opt/conda/lib/python3.7/site-packages (from matplotlib) (9.1.1)\r\n",
      "Requirement already satisfied: typing-extensions in /opt/conda/lib/python3.7/site-packages (from kiwisolver>=1.0.1->matplotlib) (4.4.0)\r\n",
      "Requirement already satisfied: six>=1.5 in /opt/conda/lib/python3.7/site-packages (from python-dateutil>=2.7->matplotlib) (1.15.0)\r\n",
      "\u001b[33mWARNING: Running pip as the 'root' user can result in broken permissions and conflicting behaviour with the system package manager. It is recommended to use a virtual environment instead: https://pip.pypa.io/warnings/venv\u001b[0m\u001b[33m\r\n",
      "\u001b[0m"
     ]
    }
   ],
   "source": [
    "!pip install matplotlib"
   ]
  },
  {
   "cell_type": "code",
   "execution_count": 2,
   "id": "7dad91ff",
   "metadata": {
    "collapsed": true,
    "execution": {
     "iopub.execute_input": "2022-11-14T23:59:53.026999Z",
     "iopub.status.busy": "2022-11-14T23:59:53.025703Z",
     "iopub.status.idle": "2022-11-14T23:59:53.297137Z",
     "shell.execute_reply": "2022-11-14T23:59:53.295911Z"
    },
    "jupyter": {
     "outputs_hidden": true
    },
    "papermill": {
     "duration": 0.279757,
     "end_time": "2022-11-14T23:59:53.299634",
     "exception": false,
     "start_time": "2022-11-14T23:59:53.019877",
     "status": "completed"
    },
    "tags": []
   },
   "outputs": [
    {
     "data": {
      "image/png": "[encoded data removed]",
      "text/plain": [
       "<Figure size 432x288 with 1 Axes>"
      ]
     },
     "metadata": {
      "needs_background": "light"
     },
     "output_type": "display_data"
    }
   ],
   "source": [
    "import matplotlib.pyplot as plt\n",
    "plt.plot([1, 2, 3, 4])\n",
    "plt.ylabel('some numbers')\n",
    "plt.show()"
   ]
  },
  {
   "cell_type": "code",
   "execution_count": 3,
   "id": "21f28871",
   "metadata": {
    "collapsed": true,
    "execution": {
     "iopub.execute_input": "2022-11-14T23:59:53.310486Z",
     "iopub.status.busy": "2022-11-14T23:59:53.309422Z",
     "iopub.status.idle": "2022-11-14T23:59:53.504664Z",
     "shell.execute_reply": "2022-11-14T23:59:53.503708Z"
    },
    "jupyter": {
     "outputs_hidden": true
    },
    "papermill": {
     "duration": 0.203007,
     "end_time": "2022-11-14T23:59:53.506918",
     "exception": false,
     "start_time": "2022-11-14T23:59:53.303911",
     "status": "completed"
    },
    "tags": []
   },
   "outputs": [
    {
     "data": {
      "image/png": "[encoded data removed]",
      "text/plain": [
       "<Figure size 432x288 with 1 Axes>"
      ]
     },
     "metadata": {
      "needs_background": "light"
     },
     "output_type": "display_data"
    }
   ],
   "source": [
    "import matplotlib.pyplot as plt\n",
    "import numpy as np\n",
    "xpoints = [0,6]\n",
    "ypoints = [0,250]\n",
    "plt.plot(xpoints,ypoints)\n",
    "plt.show()"
   ]
  },
  {
   "cell_type": "markdown",
   "id": "5fd1a0fc",
   "metadata": {
    "papermill": {
     "duration": 0.004473,
     "end_time": "2022-11-14T23:59:53.516271",
     "exception": false,
     "start_time": "2022-11-14T23:59:53.511798",
     "status": "completed"
    },
    "tags": []
   },
   "source": [
    "###***Draw two points in the diagram, one at position (1, 3) and one in position (8, 10):***"
   ]
  },
  {
   "cell_type": "code",
   "execution_count": 4,
   "id": "0787eeb0",
   "metadata": {
    "collapsed": true,
    "execution": {
     "iopub.execute_input": "2022-11-14T23:59:53.528072Z",
     "iopub.status.busy": "2022-11-14T23:59:53.526942Z",
     "iopub.status.idle": "2022-11-14T23:59:53.746580Z",
     "shell.execute_reply": "2022-11-14T23:59:53.745249Z"
    },
    "jupyter": {
     "outputs_hidden": true
    },
    "papermill": {
     "duration": 0.228452,
     "end_time": "2022-11-14T23:59:53.749365",
     "exception": false,
     "start_time": "2022-11-14T23:59:53.520913",
     "status": "completed"
    },
    "tags": []
   },
   "outputs": [
    {
     "data": {
      "image/png": "[encoded data removed]",
      "text/plain": [
       "<Figure size 432x288 with 1 Axes>"
      ]
     },
     "metadata": {
      "needs_background": "light"
     },
     "output_type": "display_data"
    }
   ],
   "source": [
    "import matplotlib.pyplot as plt\n",
    "import numpy as np\n",
    "xpoints = np.array([1,3])\n",
    "ypoints = np.array([8,10])\n",
    "plt.plot(xpoints,ypoints, 'o')\n",
    "plt.show()"
   ]
  },
  {
   "cell_type": "markdown",
   "id": "d875c113",
   "metadata": {
    "papermill": {
     "duration": 0.004509,
     "end_time": "2022-11-14T23:59:53.758901",
     "exception": false,
     "start_time": "2022-11-14T23:59:53.754392",
     "status": "completed"
    },
    "tags": []
   },
   "source": [
    "###***Draw a line in a diagram from position (1, 3) to (2, 8) then to (6, 1) and finally to position (8, 10):***"
   ]
  },
  {
   "cell_type": "code",
   "execution_count": 5,
   "id": "a1845580",
   "metadata": {
    "collapsed": true,
    "execution": {
     "iopub.execute_input": "2022-11-14T23:59:53.770364Z",
     "iopub.status.busy": "2022-11-14T23:59:53.769950Z",
     "iopub.status.idle": "2022-11-14T23:59:53.970392Z",
     "shell.execute_reply": "2022-11-14T23:59:53.969038Z"
    },
    "jupyter": {
     "outputs_hidden": true
    },
    "papermill": {
     "duration": 0.209379,
     "end_time": "2022-11-14T23:59:53.973136",
     "exception": false,
     "start_time": "2022-11-14T23:59:53.763757",
     "status": "completed"
    },
    "tags": []
   },
   "outputs": [
    {
     "data": {
      "image/png": "[encoded data removed]",
      "text/plain": [
       "<Figure size 432x288 with 1 Axes>"
      ]
     },
     "metadata": {
      "needs_background": "light"
     },
     "output_type": "display_data"
    }
   ],
   "source": [
    "import matplotlib.pyplot as plt\n",
    "import numpy as np\n",
    "xpoints = np.array([1,2,6,8])\n",
    "ypoints = np.array([2,8,1,10])\n",
    "plt.plot(xpoints,ypoints)\n",
    "plt.show()"
   ]
  },
  {
   "cell_type": "markdown",
   "id": "69cca2af",
   "metadata": {
    "papermill": {
     "duration": 0.004918,
     "end_time": "2022-11-14T23:59:53.983335",
     "exception": false,
     "start_time": "2022-11-14T23:59:53.978417",
     "status": "completed"
    },
    "tags": []
   },
   "source": [
    "***use the keyword argument marker to emphasize each point with a specified marker:***"
   ]
  },
  {
   "cell_type": "code",
   "execution_count": 6,
   "id": "15a52b82",
   "metadata": {
    "collapsed": true,
    "execution": {
     "iopub.execute_input": "2022-11-14T23:59:53.995361Z",
     "iopub.status.busy": "2022-11-14T23:59:53.994953Z",
     "iopub.status.idle": "2022-11-14T23:59:54.203688Z",
     "shell.execute_reply": "2022-11-14T23:59:54.202445Z"
    },
    "jupyter": {
     "outputs_hidden": true
    },
    "papermill": {
     "duration": 0.218029,
     "end_time": "2022-11-14T23:59:54.206556",
     "exception": false,
     "start_time": "2022-11-14T23:59:53.988527",
     "status": "completed"
    },
    "tags": []
   },
   "outputs": [
    {
     "data": {
      "image/png": "[encoded data removed]",
      "text/plain": [
       "<Figure size 432x288 with 1 Axes>"
      ]
     },
     "metadata": {
      "needs_background": "light"
     },
     "output_type": "display_data"
    }
   ],
   "source": [
    "import matplotlib.pyplot as plt\n",
    "import numpy as np\n",
    "xpoints = np.array([1,2,6,8])\n",
    "ypoints = np.array([2,8,1,10])\n",
    "plt.plot(xpoints,ypoints, marker = 'o')\n",
    "plt.show()"
   ]
  },
  {
   "cell_type": "markdown",
   "id": "32459912",
   "metadata": {
    "papermill": {
     "duration": 0.006272,
     "end_time": "2022-11-14T23:59:54.218649",
     "exception": false,
     "start_time": "2022-11-14T23:59:54.212377",
     "status": "completed"
    },
    "tags": []
   },
   "source": []
  },
  {
   "cell_type": "markdown",
   "id": "21dd7915",
   "metadata": {
    "papermill": {
     "duration": 0.005744,
     "end_time": "2022-11-14T23:59:54.231453",
     "exception": false,
     "start_time": "2022-11-14T23:59:54.225709",
     "status": "completed"
    },
    "tags": []
   },
   "source": [
    "***Mark each point with a star:****"
   ]
  },
  {
   "cell_type": "code",
   "execution_count": 7,
   "id": "f7ad5f2e",
   "metadata": {
    "collapsed": true,
    "execution": {
     "iopub.execute_input": "2022-11-14T23:59:54.246568Z",
     "iopub.status.busy": "2022-11-14T23:59:54.246165Z",
     "iopub.status.idle": "2022-11-14T23:59:54.416652Z",
     "shell.execute_reply": "2022-11-14T23:59:54.415471Z"
    },
    "jupyter": {
     "outputs_hidden": true
    },
    "papermill": {
     "duration": 0.181323,
     "end_time": "2022-11-14T23:59:54.419222",
     "exception": false,
     "start_time": "2022-11-14T23:59:54.237899",
     "status": "completed"
    },
    "tags": []
   },
   "outputs": [
    {
     "data": {
      "text/plain": [
       "[<matplotlib.lines.Line2D at 0x7f001c633450>]"
      ]
     },
     "execution_count": 7,
     "metadata": {},
     "output_type": "execute_result"
    },
    {
     "data": {
      "image/png": "[encoded data removed]",
      "text/plain": [
       "<Figure size 432x288 with 1 Axes>"
      ]
     },
     "metadata": {
      "needs_background": "light"
     },
     "output_type": "display_data"
    }
   ],
   "source": [
    "import matplotlib.pyplot as plt\n",
    "import numpy as np\n",
    "xpoints = np.array([1,2,6,8])\n",
    "ypoints = np.array([2,8,1,10])\n",
    "plt.plot(xpoints,ypoints,linestyle = \"dashed\", marker = \"*\")"
   ]
  }
 ],
 "metadata": {
  "kernelspec": {
   "display_name": "Python 3",
   "language": "python",
   "name": "python3"
  },
  "language_info": {
   "codemirror_mode": {
    "name": "ipython",
    "version": 3
   },
   "file_extension": ".py",
   "mimetype": "text/x-python",
   "name": "python",
   "nbconvert_exporter": "python",
   "pygments_lexer": "ipython3",
   "version": "3.7.12"
  },
  "papermill": {
   "default_parameters": {},
   "duration": 26.081019,
   "end_time": "2022-11-14T23:59:55.149439",
   "environment_variables": {},
   "exception": null,
   "input_path": "__notebook__.ipynb",
   "output_path": "__notebook__.ipynb",
   "parameters": {},
   "start_time": "2022-11-14T23:59:29.068420",
   "version": "2.3.4"
  }
 },
 "nbformat": 4,
 "nbformat_minor": 5
}
